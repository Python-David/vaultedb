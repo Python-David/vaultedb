{
 "cells": [
  {
   "cell_type": "markdown",
   "id": "474e7caa",
   "metadata": {},
   "source": [
    "# 🔐 VaulteDB Interactive Playground\n",
    "\n",
    "This notebook demonstrates the core features of VaulteDB — a zero-config, encrypted document database.\n",
    "\n",
    "You'll see how to create a vault, insert/query documents, inspect raw encrypted content, test vault isolation, and explore secure audit logging and key export."
   ]
  },
  {
   "cell_type": "code",
   "execution_count": null,
   "id": "0d9fc507",
   "metadata": {},
   "outputs": [],
   "source": [
    "# 🧹 Cleanup: Delete old vault files to start fresh for the demo\n",
    "import os\n",
    "from pathlib import Path\n",
    "\n",
    "for base in [\"demo_notebook\", \"vault1\", \"vault2\", \"logged_demo\"]:\n",
    "    for ext in [\".vault\", \".vaultlog\"]:\n",
    "        f = Path(f\"{base}{ext}\")\n",
    "        if f.exists():\n",
    "            f.unlink()"
   ]
  },
  {
   "cell_type": "code",
   "execution_count": null,
   "id": "07edcbe4",
   "metadata": {},
   "outputs": [],
   "source": [
    "from vaultedb import vaultedb\n",
    "from vaultedb.errors import CryptoError\n",
    "from pprint import pprint\n",
    "from pathlib import Path"
   ]
  },
  {
   "cell_type": "markdown",
   "id": "4910098d",
   "metadata": {},
   "source": [
    "## 🔐 Step 1: Open or Create a Vault"
   ]
  },
  {
   "cell_type": "code",
   "execution_count": null,
   "id": "caed8710",
   "metadata": {},
   "outputs": [],
   "source": [
    "vault = vaultedb.open(\"demo_notebook.vault\", \"vaultedb-notebook-pass\")"
   ]
  },
  {
   "cell_type": "markdown",
   "id": "57cb54f8",
   "metadata": {},
   "source": [
    "## ✍️ Step 2: Insert Documents"
   ]
  },
  {
   "cell_type": "code",
   "execution_count": null,
   "id": "2e9a9626",
   "metadata": {},
   "outputs": [],
   "source": [
    "vault.insert({\"_id\": \"user-alice\", \"email\": \"alice@example.com\", \"role\": \"admin\"})\n",
    "vault.insert({\"_id\": \"user-bob\", \"email\": \"bob@example.com\", \"role\": \"viewer\"})"
   ]
  },
  {
   "cell_type": "markdown",
   "id": "5f04ea9b",
   "metadata": {},
   "source": [
    "## 🔍 Step 3: Query Encrypted Data"
   ]
  },
  {
   "cell_type": "code",
   "execution_count": null,
   "id": "11084aa3",
   "metadata": {},
   "outputs": [],
   "source": [
    "print(\"Get by ID:\")\n",
    "pprint(vault.get(\"user-alice\"))\n",
    "\n",
    "print(\"\\nFind by field (role=admin):\")\n",
    "pprint(vault.find({\"role\": \"admin\"}))"
   ]
  },
  {
   "cell_type": "markdown",
   "id": "2cc550d1",
   "metadata": {},
   "source": [
    "## 📦 Step 4: View the Raw Vault File"
   ]
  },
  {
   "cell_type": "code",
   "execution_count": null,
   "id": "afffef85",
   "metadata": {},
   "outputs": [],
   "source": [
    "print(Path(\"demo_notebook.vault\").read_text()[:500] + \"\\n...\\n(truncated)\")"
   ]
  },
  {
   "cell_type": "markdown",
   "id": "b7f1dc0b",
   "metadata": {},
   "source": [
    "## 🧪 Step 5: Vault Isolation Guarantee"
   ]
  },
  {
   "cell_type": "code",
   "execution_count": null,
   "id": "fb763cbc",
   "metadata": {},
   "outputs": [],
   "source": [
    "vault1 = vaultedb.open(\"vault1.vault\", \"same-pass\")\n",
    "vault2 = vaultedb.open(\"vault2.vault\", \"same-pass\")\n",
    "\n",
    "vault1.insert({\"_id\": \"secret\", \"msg\": \"sensitive\"})\n",
    "vault2.store.insert(vault1.store.data[\"secret\"])\n",
    "\n",
    "try:\n",
    "    vault2.get(\"secret\")\n",
    "except CryptoError:\n",
    "    print(\"✅ Decryption failed — Vaults are isolated by salt, even with same passphrase.\")"
   ]
  },
  {
   "cell_type": "markdown",
   "id": "e84e3e01",
   "metadata": {},
   "source": [
    "## 🪵 Step 6: Enable Encrypted Audit Logging"
   ]
  },
  {
   "cell_type": "code",
   "execution_count": null,
   "id": "23687fe5",
   "metadata": {},
   "outputs": [],
   "source": [
    "vault = vaultedb.open(\"logged_demo.vault\", \"hunter2\", enable_logging=True)\n",
    "vault.insert({\"_id\": \"log1\", \"msg\": \"audit test\"})\n",
    "vault.get(\"log1\")\n",
    "\n",
    "log = vault.get_audit_log()\n",
    "pprint(log.entries())"
   ]
  },
  {
   "cell_type": "markdown",
   "id": "c939b536",
   "metadata": {},
   "source": [
    "## 🗝️ Step 7: Export Key + Salt (Secure Backup)"
   ]
  },
  {
   "cell_type": "code",
   "execution_count": null,
   "id": "f6103950",
   "metadata": {},
   "outputs": [],
   "source": [
    "vault.export_key()"
   ]
  },
  {
   "cell_type": "markdown",
   "id": "26906adf",
   "metadata": {},
   "source": [
    "⚠️ **WARNING:** If you lose this key + salt, you will lose access to your data forever. vaultedb does not store your key. Be responsible."
   ]
  },
  {
   "cell_type": "markdown",
   "id": "bf4f95c5",
   "metadata": {},
   "source": [
    "## 🎉 Recap\n",
    "\n",
    "- Created encrypted vault\n",
    "- Inserted/queryed secure documents\n",
    "- Confirmed data is encrypted on disk\n",
    "- Proved vault isolation\n",
    "- Logged operations securely\n",
    "- Exported key for safe backup\n",
    "\n",
    "**vaultedb: built for privacy-first applications.**"
   ]
  }
 ],
 "metadata": {
  "kernelspec": {
   "display_name": "Python 3",
   "language": "python",
   "name": "python3"
  }
 },
 "nbformat": 4,
 "nbformat_minor": 5
}
